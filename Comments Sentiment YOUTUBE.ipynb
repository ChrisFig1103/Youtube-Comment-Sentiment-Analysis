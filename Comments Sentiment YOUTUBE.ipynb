{
 "cells": [
  {
   "cell_type": "markdown",
   "id": "f8ee18e2",
   "metadata": {},
   "source": [
    "Import dependencies "
   ]
  },
  {
   "cell_type": "code",
   "execution_count": 1,
   "id": "404d0f42",
   "metadata": {},
   "outputs": [],
   "source": [
    "import time\n",
    "from selenium import webdriver\n",
    "from selenium.webdriver import Chrome \n",
    "from selenium.webdriver.common.by import By \n",
    "from selenium.webdriver.common.keys import Keys \n",
    "from selenium.webdriver.support.ui import WebDriverWait\n",
    "from selenium.webdriver.support import expected_conditions as EC\n",
    "\n",
    "import re\n",
    "import pandas as pd\n",
    "import numpy as np\n",
    "\n",
    "import os\n",
    "import googleapiclient.discovery\n",
    "\n",
    "from wordcloud import WordCloud\n",
    "import matplotlib.pyplot as plt\n",
    "\n",
    "from transformers import AutoTokenizer, AutoModelForSequenceClassification\n",
    "import torch\n",
    "import requests\n",
    "from bs4 import BeautifulSoup\n",
    "\n"
   ]
  },
  {
   "cell_type": "markdown",
   "id": "7e940fa8",
   "metadata": {},
   "source": [
    "Youtube Comments Scrapper"
   ]
  },
  {
   "cell_type": "code",
   "execution_count": 2,
   "id": "b53f1354",
   "metadata": {},
   "outputs": [],
   "source": [
    "def scrapper_comments_youtube(id):\n",
    "    # Disable OAuthlib's HTTPS verification when running locally.\n",
    "    # *DO NOT* leave this option enabled in production.\n",
    "    os.environ[\"OAUTHLIB_INSECURE_TRANSPORT\"] = \"1\"\n",
    "\n",
    "    api_service_name = \"youtube\"\n",
    "    api_version = \"v3\"\n",
    "    DEVELOPER_KEY = process.env.DEVELOPER_KEY\n",
    "\n",
    "    youtube = googleapiclient.discovery.build(\n",
    "        api_service_name, api_version, developerKey = DEVELOPER_KEY)\n",
    "\n",
    "    request = youtube.commentThreads().list(\n",
    "        part=\"id,snippet\",\n",
    "        maxResults=10000,\n",
    "        order=\"relevance\",\n",
    "        videoId= id\n",
    "    )\n",
    "    response = request.execute()\n",
    "\n",
    "    authorname = []\n",
    "    comments = []\n",
    "    for i in range(len(response[\"items\"])):\n",
    "        authorname.append(response[\"items\"][i][\"snippet\"][\"topLevelComment\"][\"snippet\"][\"authorDisplayName\"])\n",
    "        comments.append(response[\"items\"][i][\"snippet\"][\"topLevelComment\"][\"snippet\"][\"textOriginal\"])\n",
    "        df = pd.DataFrame(comments, index = authorname,columns=[\"Comments\"])\n",
    "    return df"
   ]
  },
  {
   "cell_type": "markdown",
   "id": "edcd6216",
   "metadata": {},
   "source": [
    "Sentiment Score"
   ]
  },
  {
   "cell_type": "code",
   "execution_count": 3,
   "id": "9acacbe3",
   "metadata": {},
   "outputs": [],
   "source": [
    "def sentiment_score(review):\n",
    "    tokenizer = AutoTokenizer.from_pretrained('nlptown/bert-base-multilingual-uncased-sentiment')\n",
    "    model = AutoModelForSequenceClassification.from_pretrained('nlptown/bert-base-multilingual-uncased-sentiment')\n",
    "    tokens = tokenizer.encode(review, return_tensors='pt')\n",
    "    result = model(tokens)\n",
    "    return int(torch.argmax(result.logits))+1 \n",
    "    "
   ]
  },
  {
   "cell_type": "code",
   "execution_count": 4,
   "id": "496c9571",
   "metadata": {},
   "outputs": [],
   "source": [
    "def sentiment_score_new_column(dataframe):\n",
    "    dataframe['sentiment'] = dataframe['Comments'].apply(lambda x:sentiment_score(x[:512]))"
   ]
  },
  {
   "cell_type": "markdown",
   "id": "afe7d731",
   "metadata": {},
   "source": [
    "WordCloud Function"
   ]
  },
  {
   "cell_type": "code",
   "execution_count": 5,
   "id": "1c5f6fbd",
   "metadata": {},
   "outputs": [],
   "source": [
    "def wordcloud(dataframe):\n",
    "    wc = WordCloud()\n",
    "    wc.generate(str(dataframe['Comments']))\n",
    "    plt.imshow(wc,interpolation='bilinear')\n",
    "    plt.show()"
   ]
  },
  {
   "cell_type": "markdown",
   "id": "b6366c05",
   "metadata": {},
   "source": [
    "TEST"
   ]
  },
  {
   "cell_type": "code",
   "execution_count": 6,
   "id": "36e8f960",
   "metadata": {},
   "outputs": [
    {
     "ename": "NameError",
     "evalue": "name 'process' is not defined",
     "output_type": "error",
     "traceback": [
      "\u001b[1;31m---------------------------------------------------------------------------\u001b[0m",
      "\u001b[1;31mNameError\u001b[0m                                 Traceback (most recent call last)",
      "\u001b[1;32m<ipython-input-6-d93d442530d5>\u001b[0m in \u001b[0;36m<module>\u001b[1;34m\u001b[0m\n\u001b[1;32m----> 1\u001b[1;33m \u001b[0mresult\u001b[0m \u001b[1;33m=\u001b[0m\u001b[0mscrapper_comments_youtube\u001b[0m\u001b[1;33m(\u001b[0m\u001b[1;34m'qU9mHegkTc4'\u001b[0m\u001b[1;33m)\u001b[0m\u001b[1;33m\u001b[0m\u001b[1;33m\u001b[0m\u001b[0m\n\u001b[0m",
      "\u001b[1;32m<ipython-input-2-93ee0d8a70ea>\u001b[0m in \u001b[0;36mscrapper_comments_youtube\u001b[1;34m(id)\u001b[0m\n\u001b[0;32m      6\u001b[0m     \u001b[0mapi_service_name\u001b[0m \u001b[1;33m=\u001b[0m \u001b[1;34m\"youtube\"\u001b[0m\u001b[1;33m\u001b[0m\u001b[1;33m\u001b[0m\u001b[0m\n\u001b[0;32m      7\u001b[0m     \u001b[0mapi_version\u001b[0m \u001b[1;33m=\u001b[0m \u001b[1;34m\"v3\"\u001b[0m\u001b[1;33m\u001b[0m\u001b[1;33m\u001b[0m\u001b[0m\n\u001b[1;32m----> 8\u001b[1;33m     \u001b[0mDEVELOPER_KEY\u001b[0m \u001b[1;33m=\u001b[0m \u001b[0mprocess\u001b[0m\u001b[1;33m.\u001b[0m\u001b[0menv\u001b[0m\u001b[1;33m.\u001b[0m\u001b[0mDEVELOPER_KEY\u001b[0m\u001b[1;33m\u001b[0m\u001b[1;33m\u001b[0m\u001b[0m\n\u001b[0m\u001b[0;32m      9\u001b[0m \u001b[1;33m\u001b[0m\u001b[0m\n\u001b[0;32m     10\u001b[0m     youtube = googleapiclient.discovery.build(\n",
      "\u001b[1;31mNameError\u001b[0m: name 'process' is not defined"
     ]
    }
   ],
   "source": [
    "result =scrapper_comments_youtube('qU9mHegkTc4')"
   ]
  },
  {
   "cell_type": "code",
   "execution_count": null,
   "id": "ab2f93df",
   "metadata": {},
   "outputs": [],
   "source": [
    "sentiment_score_new_column(result)"
   ]
  },
  {
   "cell_type": "code",
   "execution_count": null,
   "id": "33cd4764",
   "metadata": {},
   "outputs": [],
   "source": [
    "wordcloud(result)"
   ]
  },
  {
   "cell_type": "code",
   "execution_count": null,
   "id": "3cf394b9",
   "metadata": {
    "scrolled": true
   },
   "outputs": [],
   "source": [
    "result"
   ]
  },
  {
   "cell_type": "markdown",
   "id": "a98b1140",
   "metadata": {},
   "source": [
    "Visualize the results "
   ]
  },
  {
   "cell_type": "code",
   "execution_count": null,
   "id": "89cf4e9b",
   "metadata": {},
   "outputs": [],
   "source": [
    "df"
   ]
  },
  {
   "cell_type": "markdown",
   "id": "b0b86cc7",
   "metadata": {},
   "source": [
    "Write Results into a csv "
   ]
  },
  {
   "cell_type": "code",
   "execution_count": 23,
   "id": "e1473bd3",
   "metadata": {},
   "outputs": [],
   "source": [
    "result.to_csv('df.csv')"
   ]
  }
 ],
 "metadata": {
  "kernelspec": {
   "display_name": "Python 3",
   "language": "python",
   "name": "python3"
  },
  "language_info": {
   "codemirror_mode": {
    "name": "ipython",
    "version": 3
   },
   "file_extension": ".py",
   "mimetype": "text/x-python",
   "name": "python",
   "nbconvert_exporter": "python",
   "pygments_lexer": "ipython3",
   "version": "3.8.8"
  }
 },
 "nbformat": 4,
 "nbformat_minor": 5
}
